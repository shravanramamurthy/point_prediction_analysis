{
 "cells": [
  {
   "cell_type": "raw",
   "metadata": {},
   "source": [
    "# Predicting Player Points Per Game\n",
    "\n",
    "The purpose of this exercise is to create a model to try to predict the number of points per game that a player will score. The goal of this is to see which players are performing above expecations in terms of points scored, and which players are not. "
   ]
  },
  {
   "cell_type": "code",
   "execution_count": 1,
   "metadata": {},
   "outputs": [],
   "source": [
    "from urllib.request import urlopen\n",
    "from bs4 import BeautifulSoup\n",
    "import pandas as pd\n",
    "from basketball_reference_web_scraper import client\n",
    "from basketball_reference_web_scraper.data import OutputType\n",
    "from basketball_reference_web_scraper.data import OutputType, Team\n",
    "from datetime import datetime \n",
    "from sklearn.preprocessing import OneHotEncoder\n",
    "from sklearn.tree import DecisionTreeClassifier\n",
    "from sklearn import metrics\n",
    "from sklearn.linear_model import Lasso\n",
    "from sklearn.linear_model import Ridge\n",
    "from sklearn import linear_model\n",
    "pd.set_option('display.max_columns', 999)"
   ]
  },
  {
   "cell_type": "markdown",
   "metadata": {},
   "source": [
    "## Scraping the Data\n",
    "\n",
    "I use an API to scrape all the player box scores from all games from the 2019-2020 season up until the supsension of play due to Covid-19. "
   ]
  },
  {
   "cell_type": "code",
   "execution_count": 2,
   "metadata": {},
   "outputs": [],
   "source": [
    "players = pd.DataFrame()\n",
    "teams = pd.DataFrame()\n",
    "for month in range(9, 13): \n",
    "    for day in range(1, 32): \n",
    "        df = pd.DataFrame.from_dict(client.player_box_scores(day=day, month=month, year=2019))\n",
    "        df['date'] = \"2019-{}-{}\".format(month, day)\n",
    "        players = pd.concat([players, df])\n",
    "        df = pd.DataFrame.from_dict(client.team_box_scores(day=day, month=month, year=2019))\n",
    "        df['date'] = \"2019-{}-{}\".format(month, day)\n",
    "        teams = pd.concat([teams, df])\n",
    "        \n",
    "\n",
    "for month in range(1, 8): \n",
    "    for day in range(1, 32): \n",
    "        df = pd.DataFrame.from_dict(client.player_box_scores(day=day, month=month, year=2020))\n",
    "        df['date'] = \"2020-{}-{}\".format(month, day)\n",
    "        players = pd.concat([players, df])\n",
    "        df = pd.DataFrame.from_dict(client.team_box_scores(day=day, month=month, year=2020))\n",
    "        df['date'] = \"2020-{}-{}\".format(month, day)\n",
    "        teams = pd.concat([teams, df])\n",
    "season = pd.DataFrame.from_dict(client.players_season_totals(season_end_year=2020))\n",
    "schedule = pd.DataFrame(client.season_schedule(season_end_year=2020))\n",
    "advanced = pd.DataFrame(client.players_advanced_season_totals(season_end_year=2020))"
   ]
  },
  {
   "cell_type": "markdown",
   "metadata": {},
   "source": [
    "### One Hot Encoding\n",
    "\n",
    "We merge the `players` and `teams` dataset so that we can get the opponent score for a given player on a given night (e.g. how many points did the Jazz allow to the Warriors on November 11, 2019). I noticed that not all teams are created equal - it is easier for a player to score more points against the Warriors this year versus the Bucks). To ensure that the model took this into account, I created an One Hot Encoding to create a sparse matrix to map which opponent team that the player faced. I then merge this into the original dataset. "
   ]
  },
  {
   "cell_type": "code",
   "execution_count": 4,
   "metadata": {},
   "outputs": [],
   "source": [
    "temp_players = players.copy()\n",
    "# players = temp_players.copy()\n",
    "players = players.merge(teams[['date', 'team', 'points']], how = 'left', left_on = ['date', 'opponent'], \n",
    "         right_on = ['date', 'team'])\n",
    "columns = ['name', 'player_efficiency_rating', 'usage_percentage', 'true_shooting_percentage', 'three_point_attempt_rate',\n",
    "           'free_throw_attempt_rate']\n",
    "players = players.merge(advanced[columns], how = 'left')\n",
    "players = players.drop('team_y', axis = 1).rename(columns = {'team_x':'team', 'points':'opp_score'})\n",
    "players['points'] = players['made_three_point_field_goals'] * 3 + (players['made_field_goals'] - players['made_three_point_field_goals']) * 2 + players['made_free_throws']\n",
    "players['opponent'] = players['opponent'].astype(str)\n",
    "players['opponent'] = list(map(lambda x: x.replace('Team.', '').lower(), players['opponent'].values))\n",
    "players['location'] = players['location'].astype(str)\n",
    "players['location'] = list(map(lambda x: x.replace('Location.', '').lower(), players['location'].values))\n",
    "players['outcome'] = players['outcome'].astype(str)\n",
    "players['outcome'] = list(map(lambda x: x.replace('Outcome.', '').lower(), players['outcome'].values))\n",
    "players['team'] = players['team'].astype(str)\n",
    "players['team'] = list(map(lambda x: x.replace('Team.', '').lower(), players['team'].values))\n",
    "ohe_df = pd.get_dummies(players['location'])\n",
    "drop_columns = ['location']\n",
    "players = players.drop(drop_columns, axis = 1)\n",
    "players = players.reset_index(drop=True)\n",
    "players = players.join(ohe_df)\n"
   ]
  },
  {
   "cell_type": "markdown",
   "metadata": {},
   "source": [
    "## Creating Rolling Averages\n",
    "\n",
    "An interesting approach that I took to this was to factor in not only the season averages of players, but also a 5 game rolling average of the same statistics. To make this feasible, and to also make sure that I was only taking the rolling average of that specific player, I created a new data frame `model_df` that would hold all the created data. In addition, I also merge the `season` dataframe pulled from above to get the season statistics. "
   ]
  },
  {
   "cell_type": "code",
   "execution_count": 5,
   "metadata": {},
   "outputs": [],
   "source": [
    "names = set(players['name'].values)\n",
    "rolling_constant = 10\n",
    "\n",
    "season['season_3pp'] = season['made_three_point_field_goals']/season['attempted_three_point_field_goals']\n",
    "season['season_fgp'] = (season['made_field_goals'] - season['made_three_point_field_goals'])/(season['attempted_field_goals']-season['attempted_three_point_field_goals'])\n",
    "season['season_ftp'] = season['made_free_throws'] /season['attempted_free_throws']\n",
    "players = players.merge(season[['name', 'season_3pp', 'season_fgp', 'season_ftp']])\n",
    "players['moving_opp_def'] = players.groupby('opponent')['opp_score'].rolling(rolling_constant).mean().reset_index(drop=True)\n",
    "players = players[players['seconds_played'] > 900]\n",
    "model_df = pd.DataFrame()\n",
    "for name in names: \n",
    "    sub = players[players['name'] == name].copy()\n",
    "    sub['attempted_field_goals'] = sub['attempted_field_goals'] - sub['attempted_three_point_field_goals']\n",
    "    sub['made_field_goals'] = sub['made_field_goals'] - sub['made_three_point_field_goals']\n",
    "    sub['three_point_perc'] = sub['made_three_point_field_goals']/sub['attempted_three_point_field_goals']\n",
    "    sub['field_goal_perc'] = sub['made_field_goals']/sub['attempted_field_goals']\n",
    "    sub['free_throw_perc'] = sub['made_free_throws']/sub['attempted_free_throws']\n",
    "    sub = sub.fillna(0)\n",
    "#     sub['moving_fga'] = sub.rolling(rolling_constant)['attempted_field_goals'].mean()\n",
    "#     sub['moving_3pa'] = sub.rolling(rolling_constant)['attempted_three_point_field_goals'].mean()\n",
    "#     sub['moving_fta'] = sub.rolling(rolling_constant)['attempted_free_throws'].mean()\n",
    "#     sub['moving_fgp'] = sub.rolling(rolling_constant)['field_goal_perc'].mean()\n",
    "#     sub['moving_3pp'] = sub.rolling(rolling_constant)['three_point_perc'].mean()\n",
    "#     sub['moving_ftp'] = sub.rolling(rolling_constant)['free_throw_perc'].mean()\n",
    "#     sub['moving_opp_score'] = sub.rolling(rolling_constant)['opp_score'].mean()\n",
    "#     sub['moving_seconds_played'] = sub.rolling(rolling_constant)['seconds_played'].mean()\n",
    "    sub['moving_fga'] = sub.ewm(halflife = 1)['attempted_field_goals'].mean()\n",
    "    sub['moving_3pa'] = sub.ewm(halflife = 1)['attempted_three_point_field_goals'].mean()\n",
    "    sub['moving_fta'] = sub.ewm(halflife = 1)['attempted_free_throws'].mean()\n",
    "    sub['moving_fgp'] = sub.ewm(halflife = 1)['field_goal_perc'].mean()\n",
    "    sub['moving_3pp'] = sub.ewm(halflife = 1)['three_point_perc'].mean()\n",
    "    sub['moving_ftp'] = sub.ewm(halflife = 1)['free_throw_perc'].mean()\n",
    "    sub['moving_opp_score'] = sub.ewm(halflife = 1)['opp_score'].mean()\n",
    "    sub['moving_seconds_played'] = sub.ewm(halflife = 1)['seconds_played'].mean()\n",
    "    sub = sub.iloc[(rolling_constant-1):]\n",
    "    sub = sub.fillna(0)\n",
    "    \n",
    "    model_df = pd.concat([model_df, sub])\n"
   ]
  },
  {
   "cell_type": "markdown",
   "metadata": {},
   "source": [
    "## Feature Prep and Split Dataset\n",
    "\n",
    "I drop the columns I have used to create rolling averages, as well as non-relevant columns, and split the data into my train and test data. I thought it would be interesting to make the train and test data be split by dates - I had the train set be up to the All Star Game and the test set be from the All Star Game to the suspension of play."
   ]
  },
  {
   "cell_type": "code",
   "execution_count": 6,
   "metadata": {},
   "outputs": [],
   "source": [
    "drop_columns = ['seconds_played', 'made_field_goals', 'attempted_field_goals', 'made_three_point_field_goals',\n",
    "                'attempted_three_point_field_goals', 'made_free_throws', 'attempted_free_throws', \n",
    "                'offensive_rebounds', 'defensive_rebounds', 'assists', 'steals', 'blocks', \n",
    "                'turnovers', 'personal_fouls', 'game_score', 'opp_score', 'outcome', ]\n",
    "df = model_df.drop(drop_columns, axis = 1)\n",
    "train = df[df['date'] <= '2020-02-16'].copy()\n",
    "test = df[df['date'] >= '2020-02-16'].copy()\n",
    "X_train = train.drop(['date', 'slug', 'name', 'team', 'opponent',  'points'], axis = 1)\n",
    "y_train = train['points'].values\n",
    "X_test = test.drop(['date', 'slug', 'name', 'team', 'opponent', 'points'], axis = 1)\n",
    "y_test = test['points'].values"
   ]
  },
  {
   "cell_type": "markdown",
   "metadata": {},
   "source": [
    "## Modeling\n",
    "\n",
    "I create the model and create metrics I will use later for testing effectiveness. I used a Lasso Regression, as I believed that players are likely to tend towards their own mean, and wanted to reduce the mean point differential. In addition, the data had high multicollinearity, and I wanted the results to be regularized. "
   ]
  },
  {
   "cell_type": "code",
   "execution_count": 7,
   "metadata": {},
   "outputs": [],
   "source": [
    "clf = Lasso(alpha=0.47)\n",
    "# clf = DecisionTreeClassifier(splitter='random')\n",
    "clf.fit(X_train,y_train)\n",
    "y_pred = clf.predict(X_test)\n",
    "test['y_pred'] = y_pred\n",
    "test['diff'] = abs(test['y_pred'] - test['points'])"
   ]
  },
  {
   "cell_type": "markdown",
   "metadata": {},
   "source": [
    "## Jazz Performance Evaluation!\n",
    "\n",
    "We plot the performance of the players, noting that players that could be outperforming their expected production would be denoted where the blue bar outpaces the orange bar, and vice versa for underperforming players. We also wanted to see the mean absolute point differential, as this shows us a frequency of how different our expected point prediction was from our actual point production. This is informative in finding the effectiveness of the model, as normal accuracy may not be appropriate for continous based prediction. We notice that that Ingles is slight underperforming his expected output, and that Gobert and Bogdanovic have been outperforming. The green bar signifies the mean difference between the expected and actual points scored for each game, which can also be used to show the variance that a player has from night to night. For instance, Donovan Mitchell is not very consistent in his scoring, fluctuating from one extreme to another. "
   ]
  },
  {
   "cell_type": "code",
   "execution_count": 8,
   "metadata": {},
   "outputs": [
    {
     "data": {
      "text/plain": [
       "<AxesSubplot:title={'center':'Point Prediction Differential'}, xlabel='name'>"
      ]
     },
     "execution_count": 8,
     "metadata": {},
     "output_type": "execute_result"
    },
    {
     "data": {
      "image/png": "[encoded data removed]",
      "text/plain": [
       "<Figure size 432x288 with 1 Axes>"
      ]
     },
     "metadata": {
      "needs_background": "light"
     },
     "output_type": "display_data"
    }
   ],
   "source": [
    "jazz = test.loc[test['team'] == \"phoenix_suns\", ['name', 'points', 'y_pred', 'diff']].copy()\n",
    "jazz.groupby('name')[['points', 'y_pred', 'diff']].mean().round(2).plot(kind='bar',\n",
    "                                                                        title='Point Prediction Differential')"
   ]
  },
  {
   "cell_type": "code",
   "execution_count": 9,
   "metadata": {
    "scrolled": true
   },
   "outputs": [
    {
     "data": {
      "text/plain": [
       "<AxesSubplot:title={'center':'Frequency of Mean Absolute Point Differential'}>"
      ]
     },
     "execution_count": 9,
     "metadata": {},
     "output_type": "execute_result"
    },
    {
     "data": {
      "image/png": "[encoded data removed]",
      "text/plain": [
       "<Figure size 432x288 with 1 Axes>"
      ]
     },
     "metadata": {
      "needs_background": "light"
     },
     "output_type": "display_data"
    }
   ],
   "source": [
    "mae_player = test.groupby('name')['diff'].mean()\n",
    "mae_player.round().value_counts().sort_index().plot(kind=\"bar\", title = \"Frequency of Mean Absolute Point Differential\")"
   ]
  },
  {
   "cell_type": "markdown",
   "metadata": {},
   "source": [
    "## Predicting Next Game Performance\n",
    "\n",
    "We now want to see how many points each player will score in the next game on 08/01/2020. We use the NBA schedule to create a dataset, and take the rolling averages from the last game that the Jazz played (07/30/2020). We then construct the rolling averages, as well as find the opponent points allowed, then feed it into the model to predict. Doing so, we create a plot, and notice that Donovan Mitchell is posed to score higher than his season average, and that Clarkson and Ingles are key contributors, as well as Bodganovic if he was healthy. "
   ]
  },
  {
   "cell_type": "code",
   "execution_count": null,
   "metadata": {},
   "outputs": [],
   "source": [
    "X_train = df.drop(['date', 'slug', 'name', 'team', 'opponent', 'points'], axis = 1)\n",
    "y_train = df['points'].values\n",
    "clf = clf.fit(X_train,y_train)"
   ]
  },
  {
   "cell_type": "code",
   "execution_count": null,
   "metadata": {},
   "outputs": [],
   "source": [
    "team = 'utah_jazz'\n",
    "# temp_schedule = schedule.copy()\n",
    "schedule = temp_schedule.copy()\n",
    "schedule['home_team'] = schedule['home_team'].astype(str)\n",
    "schedule['home_team'] = list(map(lambda x: x.replace('Team.', '').lower(), schedule['home_team'].values))\n",
    "schedule['away_team'] = schedule['away_team'].astype(str)\n",
    "schedule['away_team'] = list(map(lambda x: x.replace('Team.', '').lower(), schedule['away_team'].values))\n",
    "schedule['start_time'] = pd.to_datetime(schedule['start_time']).dt.strftime('%Y-%m-%d')\n",
    "schedule = schedule.rename(columns = {'start_time' : 'date'})\n",
    "\n",
    "home = schedule[(schedule['home_team'] == team) & (schedule['date'] > '2020-08-02')].copy()\n",
    "away = schedule[(schedule['away_team'] == team) & (schedule['date'] > '2020-08-02')].copy()\n",
    "away = away.rename(columns = {'away_team' : 'team', 'home_team': 'opponent'})\n",
    "home = home.rename(columns = {'home_team' : 'team', 'away_team': 'opponent'})\n",
    "home['home'] = 1\n",
    "home['away'] = 0\n",
    "away['home'] = 0\n",
    "away['away'] = 1\n",
    "rolling_opp_def = pd.DataFrame(model_df.groupby('team').tail(rolling_constant).groupby('team')['opp_score'].mean()).reset_index().rename(columns = {'team': 'opponent', 'opp_score': 'moving_opp_def'})\n",
    "predict = pd.concat([home, away]).sort_index()"
   ]
  },
  {
   "cell_type": "code",
   "execution_count": null,
   "metadata": {},
   "outputs": [],
   "source": [
    "bubble = model_df[model_df['team'] == team].groupby('name').tail(1).drop(['date', 'opponent', 'home', 'away'], axis = 1)\n",
    "drop_columns = ['outcome', 'seconds_played', 'made_field_goals','attempted_field_goals', \n",
    "                'made_three_point_field_goals','attempted_three_point_field_goals', 'made_free_throws',\n",
    "                'attempted_free_throws', 'offensive_rebounds', 'defensive_rebounds',\n",
    "                'assists', 'steals', 'blocks', 'turnovers', 'personal_fouls', 'moving_opp_def', \n",
    "                'game_score', 'opp_score', 'points', 'outcome', 'home_team_score', 'away_team_score']\n",
    "predict_df = pd.merge(bubble, predict.head(1), on = 'team', how = 'outer').drop(drop_columns, axis = 1)\n",
    "predict_df = pd.merge(predict_df, rolling_opp_def, how='left', on = 'opponent')\n",
    "drop_columns = ['date', 'slug', 'name', 'team', 'opponent']\n",
    "X_pred = predict_df.drop(drop_columns, axis = 1)\n",
    "\n",
    "\n",
    "pred_points = clf.predict(X_pred) \n",
    "predict_df['pred_points'] = pred_points.round()\n",
    "predict_df.plot(x = 'name', y = 'pred_points', kind='bar')\n",
    "predict_df[['name', 'pred_points']]"
   ]
  },
  {
   "cell_type": "markdown",
   "metadata": {},
   "source": [
    "## Next Steps? \n",
    "\n",
    "A limitation of this is the scope of the model. Ideally, I would want to project the performance of a player for more than one game, perhaps even project the performance for the rest of the season. Another obvious restriction is that this model solely is used for predicting the scoring output. This model does not consider other factors such as assists, rebounds, turnovers, fouls, etc. The next steps I would like to pursue would be to create a player evaluation model using play by play data in conjunction with this model to create a more cohesive understanding of players. \n",
    "\n",
    "If you have any questions about this, please email me at shravan.ramamurthy@gmail.com or contact me at +1 (408) 242-4395. Thanks and have a great weekend! "
   ]
  },
  {
   "cell_type": "code",
   "execution_count": null,
   "metadata": {},
   "outputs": [],
   "source": []
  }
 ],
 "metadata": {
  "kernelspec": {
   "display_name": "Python 3",
   "language": "python",
   "name": "python3"
  },
  "language_info": {
   "codemirror_mode": {
    "name": "ipython",
    "version": 3
   },
   "file_extension": ".py",
   "mimetype": "text/x-python",
   "name": "python",
   "nbconvert_exporter": "python",
   "pygments_lexer": "ipython3",
   "version": "3.8.5"
  }
 },
 "nbformat": 4,
 "nbformat_minor": 2
}
